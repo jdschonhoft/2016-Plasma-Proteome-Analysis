{
 "cells": [
  {
   "cell_type": "markdown",
   "metadata": {},
   "source": [
    "### importing data and cleaning\n",
    "\n",
    "Downloaded data from Plasma Proteome Database: http://www.plasmaproteomedatabase.org\n",
    "\n",
    "goal is to find the most abundant plasma proteins\n"
   ]
  },
  {
   "cell_type": "code",
   "execution_count": 1,
   "metadata": {
    "collapsed": false
   },
   "outputs": [
    {
     "data": {
      "text/html": [
       "<div>\n",
       "<table border=\"1\" class=\"dataframe\">\n",
       "  <thead>\n",
       "    <tr style=\"text-align: right;\">\n",
       "      <th></th>\n",
       "      <th>PPD_ID</th>\n",
       "      <th>Gene Symbol</th>\n",
       "      <th>Gene ID</th>\n",
       "      <th>Protein concentration</th>\n",
       "      <th>Unit</th>\n",
       "      <th>Method</th>\n",
       "      <th>Sample type</th>\n",
       "      <th>Reference</th>\n",
       "      <th>Highest reported plasma protein level</th>\n",
       "      <th>Unit.1</th>\n",
       "      <th>Sample type.1</th>\n",
       "    </tr>\n",
       "  </thead>\n",
       "  <tbody>\n",
       "    <tr>\n",
       "      <th>0</th>\n",
       "      <td>HPRD_00726</td>\n",
       "      <td>A1BG</td>\n",
       "      <td>1</td>\n",
       "      <td>50</td>\n",
       "      <td>ug/ml</td>\n",
       "      <td>Spectral counting</td>\n",
       "      <td>Plasma</td>\n",
       "      <td>21632744</td>\n",
       "      <td>22</td>\n",
       "      <td>mg/ml</td>\n",
       "      <td>Plasma</td>\n",
       "    </tr>\n",
       "    <tr>\n",
       "      <th>1</th>\n",
       "      <td>HPRD_00726</td>\n",
       "      <td>A1BG</td>\n",
       "      <td>1</td>\n",
       "      <td>39.77</td>\n",
       "      <td>ug/ml</td>\n",
       "      <td>Multiple reaction monitoring</td>\n",
       "      <td>Blood</td>\n",
       "      <td>23221968</td>\n",
       "      <td>39.77</td>\n",
       "      <td>ug/ml</td>\n",
       "      <td>Blood</td>\n",
       "    </tr>\n",
       "    <tr>\n",
       "      <th>2</th>\n",
       "      <td>HPRD_00726</td>\n",
       "      <td>A1BG</td>\n",
       "      <td>1</td>\n",
       "      <td>132.8</td>\n",
       "      <td>ug/ml</td>\n",
       "      <td>Multiple reaction monitoring</td>\n",
       "      <td>Plasma</td>\n",
       "      <td>23245390</td>\n",
       "      <td>NaN</td>\n",
       "      <td>NaN</td>\n",
       "      <td>NaN</td>\n",
       "    </tr>\n",
       "    <tr>\n",
       "      <th>3</th>\n",
       "      <td>HPRD_00726</td>\n",
       "      <td>A1BG</td>\n",
       "      <td>1</td>\n",
       "      <td>22</td>\n",
       "      <td>mg/ml</td>\n",
       "      <td>-</td>\n",
       "      <td>Plasma</td>\n",
       "      <td>20204147</td>\n",
       "      <td>NaN</td>\n",
       "      <td>NaN</td>\n",
       "      <td>NaN</td>\n",
       "    </tr>\n",
       "    <tr>\n",
       "      <th>4</th>\n",
       "      <td>HPRD_00726</td>\n",
       "      <td>A1BG</td>\n",
       "      <td>1</td>\n",
       "      <td>225</td>\n",
       "      <td>ug/ml</td>\n",
       "      <td>-</td>\n",
       "      <td>Plasma</td>\n",
       "      <td>15627965</td>\n",
       "      <td>NaN</td>\n",
       "      <td>NaN</td>\n",
       "      <td>NaN</td>\n",
       "    </tr>\n",
       "  </tbody>\n",
       "</table>\n",
       "</div>"
      ],
      "text/plain": [
       "       PPD_ID Gene Symbol  Gene ID Protein concentration   Unit  \\\n",
       "0  HPRD_00726        A1BG        1                    50  ug/ml   \n",
       "1  HPRD_00726        A1BG        1                 39.77  ug/ml   \n",
       "2  HPRD_00726        A1BG        1                 132.8  ug/ml   \n",
       "3  HPRD_00726        A1BG        1                    22  mg/ml   \n",
       "4  HPRD_00726        A1BG        1                   225  ug/ml   \n",
       "\n",
       "                         Method Sample type  Reference  \\\n",
       "0             Spectral counting      Plasma   21632744   \n",
       "1  Multiple reaction monitoring       Blood   23221968   \n",
       "2  Multiple reaction monitoring      Plasma   23245390   \n",
       "3                             -      Plasma   20204147   \n",
       "4                             -      Plasma   15627965   \n",
       "\n",
       "  Highest reported plasma protein level Unit.1 Sample type.1  \n",
       "0                                    22  mg/ml        Plasma  \n",
       "1                                 39.77  ug/ml         Blood  \n",
       "2                                   NaN    NaN           NaN  \n",
       "3                                   NaN    NaN           NaN  \n",
       "4                                   NaN    NaN           NaN  "
      ]
     },
     "execution_count": 1,
     "metadata": {},
     "output_type": "execute_result"
    }
   ],
   "source": [
    "%matplotlib inline\n",
    "import pandas as pd\n",
    "from matplotlib import pyplot as plt\n",
    "\n",
    "PP_db = pd.read_excel('020215_concentration_PPdatabase.xls')\n",
    "PP_db.head()\n"
   ]
  },
  {
   "cell_type": "markdown",
   "metadata": {},
   "source": [
    "Data needs cleaning.  Concentrations are in different units specified by unit column.\n",
    "\n",
    "Also selecting for the following: MRM b/c that is the most accurate method of finding concentrations, Plasma etc\n",
    "\n",
    "Converting concentrations to numbers"
   ]
  },
  {
   "cell_type": "code",
   "execution_count": 2,
   "metadata": {
    "collapsed": false
   },
   "outputs": [
    {
     "data": {
      "text/html": [
       "<div>\n",
       "<table border=\"1\" class=\"dataframe\">\n",
       "  <thead>\n",
       "    <tr style=\"text-align: right;\">\n",
       "      <th></th>\n",
       "      <th>PPD_ID</th>\n",
       "      <th>Gene Symbol</th>\n",
       "      <th>Gene ID</th>\n",
       "      <th>Protein concentration</th>\n",
       "      <th>Unit</th>\n",
       "      <th>Method</th>\n",
       "      <th>Sample type</th>\n",
       "      <th>Reference</th>\n",
       "      <th>Highest reported plasma protein level</th>\n",
       "      <th>Unit.1</th>\n",
       "      <th>Sample type.1</th>\n",
       "    </tr>\n",
       "  </thead>\n",
       "  <tbody>\n",
       "    <tr>\n",
       "      <th>2</th>\n",
       "      <td>HPRD_00726</td>\n",
       "      <td>A1BG</td>\n",
       "      <td>1</td>\n",
       "      <td>132.800</td>\n",
       "      <td>ug/ml</td>\n",
       "      <td>Multiple reaction monitoring</td>\n",
       "      <td>Plasma</td>\n",
       "      <td>23245390</td>\n",
       "      <td>NaN</td>\n",
       "      <td>NaN</td>\n",
       "      <td>NaN</td>\n",
       "    </tr>\n",
       "    <tr>\n",
       "      <th>8</th>\n",
       "      <td>HPRD_00072</td>\n",
       "      <td>A2M</td>\n",
       "      <td>2</td>\n",
       "      <td>1.609</td>\n",
       "      <td>mg/ml</td>\n",
       "      <td>Multiple reaction monitoring</td>\n",
       "      <td>Plasma</td>\n",
       "      <td>23592487</td>\n",
       "      <td>1.609</td>\n",
       "      <td>mg/ml</td>\n",
       "      <td>Plasma</td>\n",
       "    </tr>\n",
       "    <tr>\n",
       "      <th>57</th>\n",
       "      <td>HPRD_00073</td>\n",
       "      <td>AFM</td>\n",
       "      <td>173</td>\n",
       "      <td>35.000</td>\n",
       "      <td>ug/ml</td>\n",
       "      <td>Multiple reaction monitoring</td>\n",
       "      <td>Plasma</td>\n",
       "      <td>23245390</td>\n",
       "      <td>320</td>\n",
       "      <td>ug/ml</td>\n",
       "      <td>Plasma</td>\n",
       "    </tr>\n",
       "    <tr>\n",
       "      <th>72</th>\n",
       "      <td>HPRD_00106</td>\n",
       "      <td>AGT</td>\n",
       "      <td>183</td>\n",
       "      <td>10.540</td>\n",
       "      <td>ug/ml</td>\n",
       "      <td>Multiple reaction monitoring</td>\n",
       "      <td>Plasma</td>\n",
       "      <td>22577024</td>\n",
       "      <td>60.63</td>\n",
       "      <td>ug/ml</td>\n",
       "      <td>Blood</td>\n",
       "    </tr>\n",
       "    <tr>\n",
       "      <th>73</th>\n",
       "      <td>HPRD_00106</td>\n",
       "      <td>AGT</td>\n",
       "      <td>183</td>\n",
       "      <td>47.600</td>\n",
       "      <td>ug/ml</td>\n",
       "      <td>Multiple reaction monitoring</td>\n",
       "      <td>Plasma</td>\n",
       "      <td>23245390</td>\n",
       "      <td>NaN</td>\n",
       "      <td>NaN</td>\n",
       "      <td>NaN</td>\n",
       "    </tr>\n",
       "  </tbody>\n",
       "</table>\n",
       "</div>"
      ],
      "text/plain": [
       "        PPD_ID Gene Symbol  Gene ID  Protein concentration   Unit  \\\n",
       "2   HPRD_00726        A1BG        1                132.800  ug/ml   \n",
       "8   HPRD_00072         A2M        2                  1.609  mg/ml   \n",
       "57  HPRD_00073         AFM      173                 35.000  ug/ml   \n",
       "72  HPRD_00106         AGT      183                 10.540  ug/ml   \n",
       "73  HPRD_00106         AGT      183                 47.600  ug/ml   \n",
       "\n",
       "                          Method Sample type  Reference  \\\n",
       "2   Multiple reaction monitoring      Plasma   23245390   \n",
       "8   Multiple reaction monitoring      Plasma   23592487   \n",
       "57  Multiple reaction monitoring      Plasma   23245390   \n",
       "72  Multiple reaction monitoring      Plasma   22577024   \n",
       "73  Multiple reaction monitoring      Plasma   23245390   \n",
       "\n",
       "   Highest reported plasma protein level Unit.1 Sample type.1  \n",
       "2                                    NaN    NaN           NaN  \n",
       "8                                  1.609  mg/ml        Plasma  \n",
       "57                                   320  ug/ml        Plasma  \n",
       "72                                 60.63  ug/ml         Blood  \n",
       "73                                   NaN    NaN           NaN  "
      ]
     },
     "execution_count": 2,
     "metadata": {},
     "output_type": "execute_result"
    }
   ],
   "source": [
    "PP_db = PP_db.loc[PP_db['Method'] == 'Multiple reaction monitoring']  #selecting by method\n",
    "PP_db = PP_db.loc[PP_db['Sample type'] == 'Plasma'] #selecting by sample type\n",
    "PP_db['Protein concentration'] = PP_db['Protein concentration'].convert_objects(convert_numeric=True) #converting conc to numbers\n",
    "PP_db.head()"
   ]
  },
  {
   "cell_type": "markdown",
   "metadata": {},
   "source": [
    "Now making a column of concentrations all in one unit and then ordering by concentration\n",
    "\n",
    "Then writing data to an excel file"
   ]
  },
  {
   "cell_type": "code",
   "execution_count": 3,
   "metadata": {
    "collapsed": false
   },
   "outputs": [],
   "source": [
    "#making a column with concentrations all in one unit: ug/ml\n",
    "conc_dict = {'pg/ml':1e-6, 'ng/ml':1e-3, 'ug/ml':1.0, 'mg/ml':1.0e3}\n",
    "PP_db['Protein concentration ug/ml'] = [conc_dict[PP_db.iloc[i,4]]*PP_db.iloc[i,3] for i in range(PP_db.shape[0])]\n",
    "\n",
    "#ordering by concentration\n",
    "\n",
    "PP_db.set_index(['Gene Symbol'],inplace=True)  #sets gene symbol as the index\n",
    "PP_db = PP_db.groupby(PP_db.index).first()\n",
    "PP_db = PP_db.sort(['Protein concentration ug/ml'], ascending = False)\n",
    "PP_db.head()\n",
    "\n",
    "#writing to excel file\n",
    "writer = pd.ExcelWriter('20160417_plasma_MRM_orderedbyconc.xlsx')\n",
    "PP_db.to_excel(writer,'Sheet1')\n",
    "writer.save()\n"
   ]
  },
  {
   "cell_type": "markdown",
   "metadata": {},
   "source": [
    "Plotting"
   ]
  },
  {
   "cell_type": "code",
   "execution_count": 4,
   "metadata": {
    "collapsed": false
   },
   "outputs": [
    {
     "data": {
      "image/png": "[encoded data removed]",
      "text/plain": [
       "<matplotlib.figure.Figure at 0x111ebb710>"
      ]
     },
     "metadata": {},
     "output_type": "display_data"
    }
   ],
   "source": [
    "plt.figure(figsize=(15,5))\n",
    "plt.rc('xtick', labelsize=15)\n",
    "plt.rc('ytick', labelsize=15) \n",
    "plt.title('50 most abundant human plasma proteins')\n",
    "PP_db['Protein concentration ug/ml'].iloc[0:].plot(kind='bar',alpha=0.75).set_yscale('log')\n",
    "plt.ylabel('Protein Concentration by MRM / ug/mL')\n",
    "plt.tight_layout()\n",
    "plt.savefig('Mostabundant_plasma_proteins.png')"
   ]
  }
 ],
 "metadata": {
  "kernelspec": {
   "display_name": "Python 2",
   "language": "python",
   "name": "python2"
  },
  "language_info": {
   "codemirror_mode": {
    "name": "ipython",
    "version": 2
   },
   "file_extension": ".py",
   "mimetype": "text/x-python",
   "name": "python",
   "nbconvert_exporter": "python",
   "pygments_lexer": "ipython2",
   "version": "2.7.11"
  }
 },
 "nbformat": 4,
 "nbformat_minor": 0
}
